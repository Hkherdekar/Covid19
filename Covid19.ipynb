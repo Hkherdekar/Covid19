{
  "nbformat": 4,
  "nbformat_minor": 0,
  "metadata": {
    "colab": {
      "name": "Covid19.ipynb",
      "provenance": [],
      "authorship_tag": "ABX9TyO+AyvI/azMOoPKrX2oO/op",
      "include_colab_link": true
    },
    "kernelspec": {
      "name": "python3",
      "display_name": "Python 3"
    }
  },
  "cells": [
    {
      "cell_type": "markdown",
      "metadata": {
        "id": "view-in-github",
        "colab_type": "text"
      },
      "source": [
        "<a href=\"https://colab.research.google.com/github/Hkherdekar/Covid19/blob/master/Covid19.ipynb\" target=\"_parent\"><img src=\"https://colab.research.google.com/assets/colab-badge.svg\" alt=\"Open In Colab\"/></a>"
      ]
    },
    {
      "cell_type": "code",
      "metadata": {
        "id": "KmDaOzG0HUPm",
        "colab_type": "code",
        "outputId": "fee7b8cc-0db9-4fb9-f98e-64aaa8100878",
        "colab": {
          "base_uri": "https://localhost:8080/",
          "height": 1000
        }
      },
      "source": [
        "#!pip install apache-airflow"
      ],
      "execution_count": 0,
      "outputs": [
        {
          "output_type": "stream",
          "text": [
            "Requirement already satisfied: apache-airflow in /usr/local/lib/python3.6/dist-packages (1.10.10)\n",
            "Requirement already satisfied: flask-wtf<0.15,>=0.14.2 in /usr/local/lib/python3.6/dist-packages (from apache-airflow) (0.14.3)\n",
            "Requirement already satisfied: setproctitle<2,>=1.1.8 in /usr/local/lib/python3.6/dist-packages (from apache-airflow) (1.1.10)\n",
            "Requirement already satisfied: zope.deprecation<5.0,>=4.0 in /usr/local/lib/python3.6/dist-packages (from apache-airflow) (4.4.0)\n",
            "Requirement already satisfied: colorlog==4.0.2 in /usr/local/lib/python3.6/dist-packages (from apache-airflow) (4.0.2)\n",
            "Requirement already satisfied: lazy-object-proxy~=1.3 in /usr/local/lib/python3.6/dist-packages (from apache-airflow) (1.4.3)\n",
            "Requirement already satisfied: termcolor==1.1.0 in /usr/local/lib/python3.6/dist-packages (from apache-airflow) (1.1.0)\n",
            "Requirement already satisfied: cattrs~=0.9 in /usr/local/lib/python3.6/dist-packages (from apache-airflow) (0.9.2)\n",
            "Requirement already satisfied: cached-property~=1.5 in /usr/local/lib/python3.6/dist-packages (from apache-airflow) (1.5.1)\n",
            "Requirement already satisfied: jinja2<2.11.0,>=2.10.1 in /usr/local/lib/python3.6/dist-packages (from apache-airflow) (2.10.3)\n",
            "Requirement already satisfied: pygments<3.0,>=2.0.1 in /usr/local/lib/python3.6/dist-packages (from apache-airflow) (2.1.3)\n",
            "Requirement already satisfied: iso8601>=0.1.12 in /usr/local/lib/python3.6/dist-packages (from apache-airflow) (0.1.12)\n",
            "Requirement already satisfied: flask-caching<1.4.0,>=1.3.3 in /usr/local/lib/python3.6/dist-packages (from apache-airflow) (1.3.3)\n",
            "Requirement already satisfied: flask-admin==1.5.4 in /usr/local/lib/python3.6/dist-packages (from apache-airflow) (1.5.4)\n",
            "Requirement already satisfied: tzlocal<2.0.0,>=1.4 in /usr/local/lib/python3.6/dist-packages (from apache-airflow) (1.5.1)\n",
            "Requirement already satisfied: thrift>=0.9.2 in /usr/local/lib/python3.6/dist-packages (from apache-airflow) (0.13.0)\n",
            "Requirement already satisfied: flask-appbuilder~=2.2; python_version >= \"3.6\" in /usr/local/lib/python3.6/dist-packages (from apache-airflow) (2.3.3)\n",
            "Requirement already satisfied: gunicorn<20.0,>=19.5.0 in /usr/local/lib/python3.6/dist-packages (from apache-airflow) (19.10.0)\n",
            "Requirement already satisfied: alembic<2.0,>=1.0 in /usr/local/lib/python3.6/dist-packages (from apache-airflow) (1.4.2)\n",
            "Requirement already satisfied: flask-login<0.5,>=0.3 in /usr/local/lib/python3.6/dist-packages (from apache-airflow) (0.4.1)\n",
            "Requirement already satisfied: sqlalchemy-jsonfield~=0.9; python_version >= \"3.5\" in /usr/local/lib/python3.6/dist-packages (from apache-airflow) (0.9.0)\n",
            "Requirement already satisfied: jsonschema~=3.0 in /usr/local/lib/python3.6/dist-packages (from apache-airflow) (3.2.0)\n",
            "Requirement already satisfied: pendulum==1.4.4 in /usr/local/lib/python3.6/dist-packages (from apache-airflow) (1.4.4)\n",
            "Requirement already satisfied: text-unidecode==1.2 in /usr/local/lib/python3.6/dist-packages (from apache-airflow) (1.2)\n",
            "Requirement already satisfied: requests<3,>=2.20.0 in /usr/local/lib/python3.6/dist-packages (from apache-airflow) (2.21.0)\n",
            "Requirement already satisfied: unicodecsv>=0.14.1 in /usr/local/lib/python3.6/dist-packages (from apache-airflow) (0.14.1)\n",
            "Requirement already satisfied: sqlalchemy~=1.3 in /usr/local/lib/python3.6/dist-packages (from apache-airflow) (1.3.16)\n",
            "Requirement already satisfied: python-daemon<2.2,>=2.1.1 in /usr/local/lib/python3.6/dist-packages (from apache-airflow) (2.1.2)\n",
            "Requirement already satisfied: tabulate<0.9,>=0.7.5 in /usr/local/lib/python3.6/dist-packages (from apache-airflow) (0.8.7)\n",
            "Requirement already satisfied: flask-swagger==0.2.13 in /usr/local/lib/python3.6/dist-packages (from apache-airflow) (0.2.13)\n",
            "Requirement already satisfied: python-dateutil<3,>=2.3 in /usr/local/lib/python3.6/dist-packages (from apache-airflow) (2.8.1)\n",
            "Requirement already satisfied: markdown<3.0,>=2.5.2 in /usr/local/lib/python3.6/dist-packages (from apache-airflow) (2.6.11)\n",
            "Requirement already satisfied: future<0.19,>=0.16.0 in /usr/local/lib/python3.6/dist-packages (from apache-airflow) (0.16.0)\n",
            "Requirement already satisfied: croniter<0.4,>=0.3.17 in /usr/local/lib/python3.6/dist-packages (from apache-airflow) (0.3.31)\n",
            "Requirement already satisfied: pandas<1.0.0,>=0.17.1 in /usr/local/lib/python3.6/dist-packages (from apache-airflow) (0.25.3)\n",
            "Requirement already satisfied: tenacity==4.12.0 in /usr/local/lib/python3.6/dist-packages (from apache-airflow) (4.12.0)\n",
            "Requirement already satisfied: werkzeug<1.0.0 in /usr/local/lib/python3.6/dist-packages (from apache-airflow) (0.16.1)\n",
            "Requirement already satisfied: funcsigs<2.0.0,>=1.0.0 in /usr/local/lib/python3.6/dist-packages (from apache-airflow) (1.0.2)\n",
            "Requirement already satisfied: typing-extensions>=3.7.4; python_version < \"3.8\" in /usr/local/lib/python3.6/dist-packages (from apache-airflow) (3.7.4.2)\n",
            "Requirement already satisfied: json-merge-patch==0.2 in /usr/local/lib/python3.6/dist-packages (from apache-airflow) (0.2)\n",
            "Requirement already satisfied: attrs~=19.3 in /usr/local/lib/python3.6/dist-packages (from apache-airflow) (19.3.0)\n",
            "Requirement already satisfied: psutil<6.0.0,>=4.2.0 in /usr/local/lib/python3.6/dist-packages (from apache-airflow) (5.4.8)\n",
            "Requirement already satisfied: argcomplete~=1.10 in /usr/local/lib/python3.6/dist-packages (from apache-airflow) (1.11.1)\n",
            "Requirement already satisfied: dill<0.4,>=0.2.2 in /usr/local/lib/python3.6/dist-packages (from apache-airflow) (0.3.1.1)\n",
            "Requirement already satisfied: flask<2.0,>=1.1.0 in /usr/local/lib/python3.6/dist-packages (from apache-airflow) (1.1.2)\n",
            "Requirement already satisfied: configparser<3.6.0,>=3.5.0 in /usr/local/lib/python3.6/dist-packages (from apache-airflow) (3.5.3)\n",
            "Requirement already satisfied: graphviz>=0.12 in /usr/local/lib/python3.6/dist-packages (from apache-airflow) (0.14)\n",
            "Requirement already satisfied: itsdangerous in /usr/local/lib/python3.6/dist-packages (from flask-wtf<0.15,>=0.14.2->apache-airflow) (1.1.0)\n",
            "Requirement already satisfied: WTForms in /usr/local/lib/python3.6/dist-packages (from flask-wtf<0.15,>=0.14.2->apache-airflow) (2.3.1)\n",
            "Requirement already satisfied: setuptools in /usr/local/lib/python3.6/dist-packages (from zope.deprecation<5.0,>=4.0->apache-airflow) (46.1.3)\n",
            "Requirement already satisfied: MarkupSafe>=0.23 in /usr/local/lib/python3.6/dist-packages (from jinja2<2.11.0,>=2.10.1->apache-airflow) (1.1.1)\n",
            "Requirement already satisfied: pytz in /usr/local/lib/python3.6/dist-packages (from tzlocal<2.0.0,>=1.4->apache-airflow) (2018.9)\n",
            "Requirement already satisfied: six>=1.7.2 in /usr/local/lib/python3.6/dist-packages (from thrift>=0.9.2->apache-airflow) (1.12.0)\n",
            "Requirement already satisfied: Flask-OpenID<2,>=1.2.5 in /usr/local/lib/python3.6/dist-packages (from flask-appbuilder~=2.2; python_version >= \"3.6\"->apache-airflow) (1.2.5)\n",
            "Requirement already satisfied: sqlalchemy-utils<1,>=0.32.21 in /usr/local/lib/python3.6/dist-packages (from flask-appbuilder~=2.2; python_version >= \"3.6\"->apache-airflow) (0.36.3)\n",
            "Requirement already satisfied: marshmallow<3.0.0,>=2.18.0 in /usr/local/lib/python3.6/dist-packages (from flask-appbuilder~=2.2; python_version >= \"3.6\"->apache-airflow) (2.21.0)\n",
            "Requirement already satisfied: Flask-SQLAlchemy<3,>=2.4 in /usr/local/lib/python3.6/dist-packages (from flask-appbuilder~=2.2; python_version >= \"3.6\"->apache-airflow) (2.4.1)\n",
            "Requirement already satisfied: marshmallow-sqlalchemy<1,>=0.16.1 in /usr/local/lib/python3.6/dist-packages (from flask-appbuilder~=2.2; python_version >= \"3.6\"->apache-airflow) (0.23.0)\n",
            "Requirement already satisfied: apispec[yaml]<2,>=1.1.1 in /usr/local/lib/python3.6/dist-packages (from flask-appbuilder~=2.2; python_version >= \"3.6\"->apache-airflow) (1.3.3)\n",
            "Requirement already satisfied: prison<1.0.0,>=0.1.3 in /usr/local/lib/python3.6/dist-packages (from flask-appbuilder~=2.2; python_version >= \"3.6\"->apache-airflow) (0.1.3)\n",
            "Requirement already satisfied: Flask-Babel<2,>=1 in /usr/local/lib/python3.6/dist-packages (from flask-appbuilder~=2.2; python_version >= \"3.6\"->apache-airflow) (1.0.0)\n",
            "Requirement already satisfied: PyJWT>=1.7.1 in /usr/local/lib/python3.6/dist-packages (from flask-appbuilder~=2.2; python_version >= \"3.6\"->apache-airflow) (1.7.1)\n",
            "Requirement already satisfied: marshmallow-enum<2,>=1.4.1 in /usr/local/lib/python3.6/dist-packages (from flask-appbuilder~=2.2; python_version >= \"3.6\"->apache-airflow) (1.5.1)\n",
            "Requirement already satisfied: colorama<1,>=0.3.9 in /usr/local/lib/python3.6/dist-packages (from flask-appbuilder~=2.2; python_version >= \"3.6\"->apache-airflow) (0.4.3)\n",
            "Requirement already satisfied: click<8,>=6.7 in /usr/local/lib/python3.6/dist-packages (from flask-appbuilder~=2.2; python_version >= \"3.6\"->apache-airflow) (7.1.1)\n",
            "Requirement already satisfied: Flask-JWT-Extended<4,>=3.18 in /usr/local/lib/python3.6/dist-packages (from flask-appbuilder~=2.2; python_version >= \"3.6\"->apache-airflow) (3.24.1)\n",
            "Requirement already satisfied: email-validator<2,>=1.0.5 in /usr/local/lib/python3.6/dist-packages (from flask-appbuilder~=2.2; python_version >= \"3.6\"->apache-airflow) (1.0.5)\n",
            "Requirement already satisfied: python-editor>=0.3 in /usr/local/lib/python3.6/dist-packages (from alembic<2.0,>=1.0->apache-airflow) (1.0.4)\n",
            "Requirement already satisfied: Mako in /usr/local/lib/python3.6/dist-packages (from alembic<2.0,>=1.0->apache-airflow) (1.1.2)\n",
            "Requirement already satisfied: typing>=3.6; python_version < \"3.7\" in /usr/local/lib/python3.6/dist-packages (from sqlalchemy-jsonfield~=0.9; python_version >= \"3.5\"->apache-airflow) (3.6.6)\n",
            "Requirement already satisfied: pyrsistent>=0.14.0 in /usr/local/lib/python3.6/dist-packages (from jsonschema~=3.0->apache-airflow) (0.16.0)\n",
            "Requirement already satisfied: importlib-metadata; python_version < \"3.8\" in /usr/local/lib/python3.6/dist-packages (from jsonschema~=3.0->apache-airflow) (1.6.0)\n",
            "Requirement already satisfied: pytzdata>=2018.3.0.0 in /usr/local/lib/python3.6/dist-packages (from pendulum==1.4.4->apache-airflow) (2019.3)\n",
            "Requirement already satisfied: chardet<3.1.0,>=3.0.2 in /usr/local/lib/python3.6/dist-packages (from requests<3,>=2.20.0->apache-airflow) (3.0.4)\n",
            "Requirement already satisfied: urllib3<1.25,>=1.21.1 in /usr/local/lib/python3.6/dist-packages (from requests<3,>=2.20.0->apache-airflow) (1.24.3)\n",
            "Requirement already satisfied: certifi>=2017.4.17 in /usr/local/lib/python3.6/dist-packages (from requests<3,>=2.20.0->apache-airflow) (2020.4.5.1)\n",
            "Requirement already satisfied: idna<2.9,>=2.5 in /usr/local/lib/python3.6/dist-packages (from requests<3,>=2.20.0->apache-airflow) (2.8)\n",
            "Requirement already satisfied: lockfile>=0.10 in /usr/local/lib/python3.6/dist-packages (from python-daemon<2.2,>=2.1.1->apache-airflow) (0.12.2)\n",
            "Requirement already satisfied: docutils in /usr/local/lib/python3.6/dist-packages (from python-daemon<2.2,>=2.1.1->apache-airflow) (0.15.2)\n",
            "Requirement already satisfied: PyYAML>=3.0 in /usr/local/lib/python3.6/dist-packages (from flask-swagger==0.2.13->apache-airflow) (3.13)\n",
            "Requirement already satisfied: numpy>=1.13.3 in /usr/local/lib/python3.6/dist-packages (from pandas<1.0.0,>=0.17.1->apache-airflow) (1.18.3)\n",
            "Requirement already satisfied: python3-openid>=2.0 in /usr/local/lib/python3.6/dist-packages (from Flask-OpenID<2,>=1.2.5->flask-appbuilder~=2.2; python_version >= \"3.6\"->apache-airflow) (3.1.0)\n",
            "Requirement already satisfied: Babel>=2.3 in /usr/local/lib/python3.6/dist-packages (from Flask-Babel<2,>=1->flask-appbuilder~=2.2; python_version >= \"3.6\"->apache-airflow) (2.8.0)\n",
            "Requirement already satisfied: dnspython>=1.15.0 in /usr/local/lib/python3.6/dist-packages (from email-validator<2,>=1.0.5->flask-appbuilder~=2.2; python_version >= \"3.6\"->apache-airflow) (1.16.0)\n",
            "Requirement already satisfied: zipp>=0.5 in /usr/local/lib/python3.6/dist-packages (from importlib-metadata; python_version < \"3.8\"->jsonschema~=3.0->apache-airflow) (3.1.0)\n",
            "Requirement already satisfied: defusedxml in /usr/local/lib/python3.6/dist-packages (from python3-openid>=2.0->Flask-OpenID<2,>=1.2.5->flask-appbuilder~=2.2; python_version >= \"3.6\"->apache-airflow) (0.6.0)\n"
          ],
          "name": "stdout"
        }
      ]
    },
    {
      "cell_type": "code",
      "metadata": {
        "id": "rbc0tsdWSIsf",
        "colab_type": "code",
        "colab": {}
      },
      "source": [
        "#importing libraries\n",
        "import pandas as pd #Data processing\n",
        "import numpy as np #Matrix/Linear algebraic operations\n",
        "import random as rd #Random number \n",
        "from datetime import datetime\n",
        "from datetime import date, timedelta #date formats\n",
        "import pytz\n",
        "\n",
        "#Visualization packages\n",
        "from matplotlib import pyplot as plt\n",
        "import seaborn as sns\n",
        "\n",
        "#Ignore Warnings\n",
        "import warnings\n",
        "warnings.filterwarnings(\"ignore\")\n",
        "\n",
        "from pandas import Series\n",
        "\n",
        "#import all the required statistics functionality\n",
        "from statsmodels.tsa.seasonal import seasonal_decompose\n",
        "from statsmodels.tsa.stattools import acf, pacf"
      ],
      "execution_count": 0,
      "outputs": []
    },
    {
      "cell_type": "code",
      "metadata": {
        "id": "85IJflMFWJPr",
        "colab_type": "code",
        "colab": {}
      },
      "source": [
        "pst = pytz.timezone('America/Los_Angeles')"
      ],
      "execution_count": 0,
      "outputs": []
    },
    {
      "cell_type": "code",
      "metadata": {
        "id": "LSXsqMMRUVXD",
        "colab_type": "code",
        "colab": {}
      },
      "source": [
        "path_to_directory = 'https://raw.githubusercontent.com/CSSEGISandData/COVID-19/master/csse_covid_19_data/csse_covid_19_daily_reports/'"
      ],
      "execution_count": 0,
      "outputs": []
    },
    {
      "cell_type": "code",
      "metadata": {
        "id": "pABk56ikUlUl",
        "colab_type": "code",
        "colab": {
          "base_uri": "https://localhost:8080/",
          "height": 34
        },
        "outputId": "3380e085-e069-4f0f-a0b9-e03c51d9ec3e"
      },
      "source": [
        "#importing data (only last updated daily data file) and converting to pandas dataframe\n",
        "\n",
        "date = datetime.now(pst) - timedelta(days=1)\n",
        "date = date.strftime('%m-%d-%Y')\n",
        "url = path_to_directory + date + '.csv'\n",
        "CovidToday = pd.read_csv(url);\n"
      ],
      "execution_count": 21,
      "outputs": [
        {
          "output_type": "stream",
          "text": [
            "04-26-2020\n"
          ],
          "name": "stdout"
        }
      ]
    },
    {
      "cell_type": "code",
      "metadata": {
        "id": "5WVtDWDtYdzY",
        "colab_type": "code",
        "colab": {
          "base_uri": "https://localhost:8080/",
          "height": 204
        },
        "outputId": "c07e3e94-5307-432f-b203-b5b390ac9fe7"
      },
      "source": [
        "CovidToday.head()"
      ],
      "execution_count": 22,
      "outputs": [
        {
          "output_type": "execute_result",
          "data": {
            "text/html": [
              "<div>\n",
              "<style scoped>\n",
              "    .dataframe tbody tr th:only-of-type {\n",
              "        vertical-align: middle;\n",
              "    }\n",
              "\n",
              "    .dataframe tbody tr th {\n",
              "        vertical-align: top;\n",
              "    }\n",
              "\n",
              "    .dataframe thead th {\n",
              "        text-align: right;\n",
              "    }\n",
              "</style>\n",
              "<table border=\"1\" class=\"dataframe\">\n",
              "  <thead>\n",
              "    <tr style=\"text-align: right;\">\n",
              "      <th></th>\n",
              "      <th>FIPS</th>\n",
              "      <th>Admin2</th>\n",
              "      <th>Province_State</th>\n",
              "      <th>Country_Region</th>\n",
              "      <th>Last_Update</th>\n",
              "      <th>Lat</th>\n",
              "      <th>Long_</th>\n",
              "      <th>Confirmed</th>\n",
              "      <th>Deaths</th>\n",
              "      <th>Recovered</th>\n",
              "      <th>Active</th>\n",
              "      <th>Combined_Key</th>\n",
              "    </tr>\n",
              "  </thead>\n",
              "  <tbody>\n",
              "    <tr>\n",
              "      <th>0</th>\n",
              "      <td>45001.0</td>\n",
              "      <td>Abbeville</td>\n",
              "      <td>South Carolina</td>\n",
              "      <td>US</td>\n",
              "      <td>2020-04-27 02:30:52</td>\n",
              "      <td>34.223334</td>\n",
              "      <td>-82.461707</td>\n",
              "      <td>27</td>\n",
              "      <td>0</td>\n",
              "      <td>0</td>\n",
              "      <td>27</td>\n",
              "      <td>Abbeville, South Carolina, US</td>\n",
              "    </tr>\n",
              "    <tr>\n",
              "      <th>1</th>\n",
              "      <td>22001.0</td>\n",
              "      <td>Acadia</td>\n",
              "      <td>Louisiana</td>\n",
              "      <td>US</td>\n",
              "      <td>2020-04-27 02:30:52</td>\n",
              "      <td>30.295065</td>\n",
              "      <td>-92.414197</td>\n",
              "      <td>130</td>\n",
              "      <td>7</td>\n",
              "      <td>0</td>\n",
              "      <td>123</td>\n",
              "      <td>Acadia, Louisiana, US</td>\n",
              "    </tr>\n",
              "    <tr>\n",
              "      <th>2</th>\n",
              "      <td>51001.0</td>\n",
              "      <td>Accomack</td>\n",
              "      <td>Virginia</td>\n",
              "      <td>US</td>\n",
              "      <td>2020-04-27 02:30:52</td>\n",
              "      <td>37.767072</td>\n",
              "      <td>-75.632346</td>\n",
              "      <td>187</td>\n",
              "      <td>3</td>\n",
              "      <td>0</td>\n",
              "      <td>184</td>\n",
              "      <td>Accomack, Virginia, US</td>\n",
              "    </tr>\n",
              "    <tr>\n",
              "      <th>3</th>\n",
              "      <td>16001.0</td>\n",
              "      <td>Ada</td>\n",
              "      <td>Idaho</td>\n",
              "      <td>US</td>\n",
              "      <td>2020-04-27 02:30:52</td>\n",
              "      <td>43.452658</td>\n",
              "      <td>-116.241552</td>\n",
              "      <td>650</td>\n",
              "      <td>15</td>\n",
              "      <td>0</td>\n",
              "      <td>635</td>\n",
              "      <td>Ada, Idaho, US</td>\n",
              "    </tr>\n",
              "    <tr>\n",
              "      <th>4</th>\n",
              "      <td>19001.0</td>\n",
              "      <td>Adair</td>\n",
              "      <td>Iowa</td>\n",
              "      <td>US</td>\n",
              "      <td>2020-04-27 02:30:52</td>\n",
              "      <td>41.330756</td>\n",
              "      <td>-94.471059</td>\n",
              "      <td>1</td>\n",
              "      <td>0</td>\n",
              "      <td>0</td>\n",
              "      <td>1</td>\n",
              "      <td>Adair, Iowa, US</td>\n",
              "    </tr>\n",
              "  </tbody>\n",
              "</table>\n",
              "</div>"
            ],
            "text/plain": [
              "      FIPS     Admin2  ... Active                   Combined_Key\n",
              "0  45001.0  Abbeville  ...     27  Abbeville, South Carolina, US\n",
              "1  22001.0     Acadia  ...    123          Acadia, Louisiana, US\n",
              "2  51001.0   Accomack  ...    184         Accomack, Virginia, US\n",
              "3  16001.0        Ada  ...    635                 Ada, Idaho, US\n",
              "4  19001.0      Adair  ...      1                Adair, Iowa, US\n",
              "\n",
              "[5 rows x 12 columns]"
            ]
          },
          "metadata": {
            "tags": []
          },
          "execution_count": 22
        }
      ]
    },
    {
      "cell_type": "code",
      "metadata": {
        "id": "uf9Ue1QSXvoZ",
        "colab_type": "code",
        "colab": {}
      },
      "source": [
        "#importing timeseries data and converting to pandas dataframe\n",
        "#The file links are hardcoded as they are auto-appended to the same file location\n",
        "\n",
        "CovidCasesUS = pd.read_csv('https://raw.githubusercontent.com/CSSEGISandData/COVID-19/master/csse_covid_19_data/csse_covid_19_time_series/time_series_covid19_confirmed_US.csv')\n",
        "\n",
        "CovidCasesGlobal = pd.read_csv('https://raw.githubusercontent.com/CSSEGISandData/COVID-19/master/csse_covid_19_data/csse_covid_19_time_series/time_series_covid19_confirmed_global.csv')\n",
        "\n",
        "CovidDeathsUS = pd.read_csv('https://raw.githubusercontent.com/CSSEGISandData/COVID-19/master/csse_covid_19_data/csse_covid_19_time_series/time_series_covid19_deaths_US.csv')\n",
        "\n",
        "CovidDeathsGlobal = pd.read_csv('https://raw.githubusercontent.com/CSSEGISandData/COVID-19/master/csse_covid_19_data/csse_covid_19_time_series/time_series_covid19_deaths_global.csv')\n",
        "\n",
        "CovidRecoveredGlobal = pd.read_csv('https://raw.githubusercontent.com/CSSEGISandData/COVID-19/master/csse_covid_19_data/csse_covid_19_time_series/time_series_covid19_recovered_global.csv')"
      ],
      "execution_count": 0,
      "outputs": []
    },
    {
      "cell_type": "markdown",
      "metadata": {
        "id": "m_xkHRMNeSqp",
        "colab_type": "text"
      },
      "source": [
        "\n",
        "\n",
        "```\n",
        "All data imported\n",
        "```\n",
        "\n"
      ]
    },
    {
      "cell_type": "code",
      "metadata": {
        "id": "_rtB6Oi_UeWl",
        "colab_type": "code",
        "colab": {}
      },
      "source": [
        ""
      ],
      "execution_count": 0,
      "outputs": []
    }
  ]
}